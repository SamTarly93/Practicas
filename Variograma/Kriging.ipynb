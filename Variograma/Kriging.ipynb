{
 "cells": [
  {
   "cell_type": "code",
   "execution_count": 1,
   "metadata": {},
   "outputs": [],
   "source": [
    "import numpy as np\n",
    "from scipy.spatial.distance import pdist, squareform\n",
    "from scipy.optimize import minimize\n"
   ]
  },
  {
   "cell_type": "code",
   "execution_count": 2,
   "metadata": {},
   "outputs": [],
   "source": [
    "\n",
    "def kriging(X, y, x_pred):\n",
    "    # Calcular la matriz de distancias\n",
    "    D = squareform(pdist(X))\n",
    "    \n",
    "    # Función para calcular la matriz de autocovarianza\n",
    "    def autocov(theta, D):\n",
    "        n = D.shape[0]\n",
    "        A = np.zeros((n, n))\n",
    "        for i in range(n):\n",
    "            for j in range(i, n):\n",
    "                A[i, j] = np.exp(-theta * D[i, j])\n",
    "                A[j, i] = A[i, j]\n",
    "        return A\n",
    "    \n",
    "    # Función objetivo para minimizar\n",
    "    def objective(theta):\n",
    "        A = autocov(theta, D)\n",
    "        y_pred = np.dot(np.dot(np.linalg.inv(A), y), np.ones(n))\n",
    "        residuals = y - y_pred\n",
    "        return np.dot(residuals, residuals)\n",
    "    \n",
    "    n = X.shape[0]\n",
    "    initial_guess = np.ones(n)\n",
    "    result = minimize(objective, initial_guess)\n",
    "    theta = result.x\n",
    "    \n",
    "    # Calcular la matriz de autocovarianza para los puntos conocidos\n",
    "    A = autocov(theta, D)\n",
    "    y_pred = np.dot(np.dot(np.linalg.inv(A), y), np.ones(n))\n",
    "    \n",
    "    # Calcular la matriz de covarianza para los puntos conocidos y desconocidos\n",
    "    D_pred = squareform(pdist(np.vstack((X, x_pred))))\n",
    "    C = np.zeros((n+1, n+1))\n",
    "    for i in range(n+1):\n",
    "        for j in range(i, n+1):\n",
    "            C[i, j] = np.exp(-theta * D_pred[i, j])\n",
    "            C[j, i] = C[i, j]\n",
    "    \n",
    "    # Calcular la estimación de kriging para el punto desconocido\n",
    "    y_kriging = np.dot(np.dot(C[:n, n], np.linalg.inv(A)), y_pred)\n",
    "    \n",
    "    return y_kriging\n",
    "\n",
    "    \n",
    "\n"
   ]
  },
  {
   "cell_type": "code",
   "execution_count": 5,
   "metadata": {},
   "outputs": [
    {
     "ename": "ValueError",
     "evalue": "setting an array element with a sequence.",
     "output_type": "error",
     "traceback": [
      "\u001b[1;31m---------------------------------------------------------------------------\u001b[0m",
      "\u001b[1;31mTypeError\u001b[0m                                 Traceback (most recent call last)",
      "\u001b[1;31mTypeError\u001b[0m: only size-1 arrays can be converted to Python scalars",
      "\nThe above exception was the direct cause of the following exception:\n",
      "\u001b[1;31mValueError\u001b[0m                                Traceback (most recent call last)",
      "Cell \u001b[1;32mIn[5], line 5\u001b[0m\n\u001b[0;32m      2\u001b[0m y \u001b[39m=\u001b[39m np\u001b[39m.\u001b[39marray([\u001b[39m5\u001b[39m, \u001b[39m7\u001b[39m, \u001b[39m9\u001b[39m, \u001b[39m11\u001b[39m, \u001b[39m13\u001b[39m])\n\u001b[0;32m      3\u001b[0m x_pred \u001b[39m=\u001b[39m np\u001b[39m.\u001b[39marray([[\u001b[39m6\u001b[39m, \u001b[39m7\u001b[39m]])\n\u001b[1;32m----> 5\u001b[0m result \u001b[39m=\u001b[39m kriging(X, y, x_pred)\n",
      "Cell \u001b[1;32mIn[2], line 24\u001b[0m, in \u001b[0;36mkriging\u001b[1;34m(X, y, x_pred)\u001b[0m\n\u001b[0;32m     22\u001b[0m n \u001b[39m=\u001b[39m X\u001b[39m.\u001b[39mshape[\u001b[39m0\u001b[39m]\n\u001b[0;32m     23\u001b[0m initial_guess \u001b[39m=\u001b[39m np\u001b[39m.\u001b[39mones(n)\n\u001b[1;32m---> 24\u001b[0m result \u001b[39m=\u001b[39m minimize(objective, initial_guess)\n\u001b[0;32m     25\u001b[0m theta \u001b[39m=\u001b[39m result\u001b[39m.\u001b[39mx\n\u001b[0;32m     27\u001b[0m \u001b[39m# Calcular la matriz de autocovarianza para los puntos conocidos\u001b[39;00m\n",
      "File \u001b[1;32mc:\\Users\\seramos\\AppData\\Local\\Programs\\Python\\Python311\\Lib\\site-packages\\scipy\\optimize\\_minimize.py:691\u001b[0m, in \u001b[0;36mminimize\u001b[1;34m(fun, x0, args, method, jac, hess, hessp, bounds, constraints, tol, callback, options)\u001b[0m\n\u001b[0;32m    689\u001b[0m     res \u001b[39m=\u001b[39m _minimize_cg(fun, x0, args, jac, callback, \u001b[39m*\u001b[39m\u001b[39m*\u001b[39moptions)\n\u001b[0;32m    690\u001b[0m \u001b[39melif\u001b[39;00m meth \u001b[39m==\u001b[39m \u001b[39m'\u001b[39m\u001b[39mbfgs\u001b[39m\u001b[39m'\u001b[39m:\n\u001b[1;32m--> 691\u001b[0m     res \u001b[39m=\u001b[39m _minimize_bfgs(fun, x0, args, jac, callback, \u001b[39m*\u001b[39;49m\u001b[39m*\u001b[39;49moptions)\n\u001b[0;32m    692\u001b[0m \u001b[39melif\u001b[39;00m meth \u001b[39m==\u001b[39m \u001b[39m'\u001b[39m\u001b[39mnewton-cg\u001b[39m\u001b[39m'\u001b[39m:\n\u001b[0;32m    693\u001b[0m     res \u001b[39m=\u001b[39m _minimize_newtoncg(fun, x0, args, jac, hess, hessp, callback,\n\u001b[0;32m    694\u001b[0m                              \u001b[39m*\u001b[39m\u001b[39m*\u001b[39moptions)\n",
      "File \u001b[1;32mc:\\Users\\seramos\\AppData\\Local\\Programs\\Python\\Python311\\Lib\\site-packages\\scipy\\optimize\\_optimize.py:1362\u001b[0m, in \u001b[0;36m_minimize_bfgs\u001b[1;34m(fun, x0, args, jac, callback, gtol, norm, eps, maxiter, disp, return_all, finite_diff_rel_step, xrtol, **unknown_options)\u001b[0m\n\u001b[0;32m   1359\u001b[0m \u001b[39mif\u001b[39;00m maxiter \u001b[39mis\u001b[39;00m \u001b[39mNone\u001b[39;00m:\n\u001b[0;32m   1360\u001b[0m     maxiter \u001b[39m=\u001b[39m \u001b[39mlen\u001b[39m(x0) \u001b[39m*\u001b[39m \u001b[39m200\u001b[39m\n\u001b[1;32m-> 1362\u001b[0m sf \u001b[39m=\u001b[39m _prepare_scalar_function(fun, x0, jac, args\u001b[39m=\u001b[39;49margs, epsilon\u001b[39m=\u001b[39;49meps,\n\u001b[0;32m   1363\u001b[0m                               finite_diff_rel_step\u001b[39m=\u001b[39;49mfinite_diff_rel_step)\n\u001b[0;32m   1365\u001b[0m f \u001b[39m=\u001b[39m sf\u001b[39m.\u001b[39mfun\n\u001b[0;32m   1366\u001b[0m myfprime \u001b[39m=\u001b[39m sf\u001b[39m.\u001b[39mgrad\n",
      "File \u001b[1;32mc:\\Users\\seramos\\AppData\\Local\\Programs\\Python\\Python311\\Lib\\site-packages\\scipy\\optimize\\_optimize.py:332\u001b[0m, in \u001b[0;36m_prepare_scalar_function\u001b[1;34m(fun, x0, jac, args, bounds, epsilon, finite_diff_rel_step, hess)\u001b[0m\n\u001b[0;32m    328\u001b[0m     bounds \u001b[39m=\u001b[39m (\u001b[39m-\u001b[39mnp\u001b[39m.\u001b[39minf, np\u001b[39m.\u001b[39minf)\n\u001b[0;32m    330\u001b[0m \u001b[39m# ScalarFunction caches. Reuse of fun(x) during grad\u001b[39;00m\n\u001b[0;32m    331\u001b[0m \u001b[39m# calculation reduces overall function evaluations.\u001b[39;00m\n\u001b[1;32m--> 332\u001b[0m sf \u001b[39m=\u001b[39m ScalarFunction(fun, x0, args, grad, hess,\n\u001b[0;32m    333\u001b[0m                     finite_diff_rel_step, bounds, epsilon\u001b[39m=\u001b[39;49mepsilon)\n\u001b[0;32m    335\u001b[0m \u001b[39mreturn\u001b[39;00m sf\n",
      "File \u001b[1;32mc:\\Users\\seramos\\AppData\\Local\\Programs\\Python\\Python311\\Lib\\site-packages\\scipy\\optimize\\_differentiable_functions.py:158\u001b[0m, in \u001b[0;36mScalarFunction.__init__\u001b[1;34m(self, fun, x0, args, grad, hess, finite_diff_rel_step, finite_diff_bounds, epsilon)\u001b[0m\n\u001b[0;32m    155\u001b[0m     \u001b[39mself\u001b[39m\u001b[39m.\u001b[39mf \u001b[39m=\u001b[39m fun_wrapped(\u001b[39mself\u001b[39m\u001b[39m.\u001b[39mx)\n\u001b[0;32m    157\u001b[0m \u001b[39mself\u001b[39m\u001b[39m.\u001b[39m_update_fun_impl \u001b[39m=\u001b[39m update_fun\n\u001b[1;32m--> 158\u001b[0m \u001b[39mself\u001b[39;49m\u001b[39m.\u001b[39;49m_update_fun()\n\u001b[0;32m    160\u001b[0m \u001b[39m# Gradient evaluation\u001b[39;00m\n\u001b[0;32m    161\u001b[0m \u001b[39mif\u001b[39;00m callable(grad):\n",
      "File \u001b[1;32mc:\\Users\\seramos\\AppData\\Local\\Programs\\Python\\Python311\\Lib\\site-packages\\scipy\\optimize\\_differentiable_functions.py:251\u001b[0m, in \u001b[0;36mScalarFunction._update_fun\u001b[1;34m(self)\u001b[0m\n\u001b[0;32m    249\u001b[0m \u001b[39mdef\u001b[39;00m \u001b[39m_update_fun\u001b[39m(\u001b[39mself\u001b[39m):\n\u001b[0;32m    250\u001b[0m     \u001b[39mif\u001b[39;00m \u001b[39mnot\u001b[39;00m \u001b[39mself\u001b[39m\u001b[39m.\u001b[39mf_updated:\n\u001b[1;32m--> 251\u001b[0m         \u001b[39mself\u001b[39;49m\u001b[39m.\u001b[39;49m_update_fun_impl()\n\u001b[0;32m    252\u001b[0m         \u001b[39mself\u001b[39m\u001b[39m.\u001b[39mf_updated \u001b[39m=\u001b[39m \u001b[39mTrue\u001b[39;00m\n",
      "File \u001b[1;32mc:\\Users\\seramos\\AppData\\Local\\Programs\\Python\\Python311\\Lib\\site-packages\\scipy\\optimize\\_differentiable_functions.py:155\u001b[0m, in \u001b[0;36mScalarFunction.__init__.<locals>.update_fun\u001b[1;34m()\u001b[0m\n\u001b[0;32m    154\u001b[0m \u001b[39mdef\u001b[39;00m \u001b[39mupdate_fun\u001b[39m():\n\u001b[1;32m--> 155\u001b[0m     \u001b[39mself\u001b[39m\u001b[39m.\u001b[39mf \u001b[39m=\u001b[39m fun_wrapped(\u001b[39mself\u001b[39;49m\u001b[39m.\u001b[39;49mx)\n",
      "File \u001b[1;32mc:\\Users\\seramos\\AppData\\Local\\Programs\\Python\\Python311\\Lib\\site-packages\\scipy\\optimize\\_differentiable_functions.py:137\u001b[0m, in \u001b[0;36mScalarFunction.__init__.<locals>.fun_wrapped\u001b[1;34m(x)\u001b[0m\n\u001b[0;32m    133\u001b[0m \u001b[39mself\u001b[39m\u001b[39m.\u001b[39mnfev \u001b[39m+\u001b[39m\u001b[39m=\u001b[39m \u001b[39m1\u001b[39m\n\u001b[0;32m    134\u001b[0m \u001b[39m# Send a copy because the user may overwrite it.\u001b[39;00m\n\u001b[0;32m    135\u001b[0m \u001b[39m# Overwriting results in undefined behaviour because\u001b[39;00m\n\u001b[0;32m    136\u001b[0m \u001b[39m# fun(self.x) will change self.x, with the two no longer linked.\u001b[39;00m\n\u001b[1;32m--> 137\u001b[0m fx \u001b[39m=\u001b[39m fun(np\u001b[39m.\u001b[39;49mcopy(x), \u001b[39m*\u001b[39;49margs)\n\u001b[0;32m    138\u001b[0m \u001b[39m# Make sure the function returns a true scalar\u001b[39;00m\n\u001b[0;32m    139\u001b[0m \u001b[39mif\u001b[39;00m \u001b[39mnot\u001b[39;00m np\u001b[39m.\u001b[39misscalar(fx):\n",
      "Cell \u001b[1;32mIn[2], line 17\u001b[0m, in \u001b[0;36mkriging.<locals>.objective\u001b[1;34m(theta)\u001b[0m\n\u001b[0;32m     16\u001b[0m \u001b[39mdef\u001b[39;00m \u001b[39mobjective\u001b[39m(theta):\n\u001b[1;32m---> 17\u001b[0m     A \u001b[39m=\u001b[39m autocov(theta, D)\n\u001b[0;32m     18\u001b[0m     y_pred \u001b[39m=\u001b[39m np\u001b[39m.\u001b[39mdot(np\u001b[39m.\u001b[39mdot(np\u001b[39m.\u001b[39mlinalg\u001b[39m.\u001b[39minv(A), y), np\u001b[39m.\u001b[39mones(n))\n\u001b[0;32m     19\u001b[0m     residuals \u001b[39m=\u001b[39m y \u001b[39m-\u001b[39m y_pred\n",
      "Cell \u001b[1;32mIn[2], line 11\u001b[0m, in \u001b[0;36mkriging.<locals>.autocov\u001b[1;34m(theta, D)\u001b[0m\n\u001b[0;32m      9\u001b[0m \u001b[39mfor\u001b[39;00m i \u001b[39min\u001b[39;00m \u001b[39mrange\u001b[39m(n):\n\u001b[0;32m     10\u001b[0m     \u001b[39mfor\u001b[39;00m j \u001b[39min\u001b[39;00m \u001b[39mrange\u001b[39m(i, n):\n\u001b[1;32m---> 11\u001b[0m         A[i, j] \u001b[39m=\u001b[39m np\u001b[39m.\u001b[39mexp(\u001b[39m-\u001b[39mtheta \u001b[39m*\u001b[39m D[i, j])\n\u001b[0;32m     12\u001b[0m         A[j, i] \u001b[39m=\u001b[39m A[i, j]\n\u001b[0;32m     13\u001b[0m \u001b[39mreturn\u001b[39;00m A\n",
      "\u001b[1;31mValueError\u001b[0m: setting an array element with a sequence."
     ]
    }
   ],
   "source": [
    "X = np.array([[1, 2], [3, 4], [5, 6], [7, 8], [9, 10]])\n",
    "y = np.array([5, 7, 9, 11, 13])\n",
    "x_pred = np.array([[6, 7]])\n",
    "\n",
    "result = kriging(X, y, x_pred)"
   ]
  },
  {
   "cell_type": "code",
   "execution_count": 1,
   "metadata": {},
   "outputs": [
    {
     "name": "stderr",
     "output_type": "stream",
     "text": [
      "C:\\Users\\seramos\\AppData\\Local\\Temp\\ipykernel_13384\\2604969823.py:44: RuntimeWarning: invalid value encountered in sqrt\n",
      "  plt.fill_between(X_pred.ravel(), y_pred - 2 * np.sqrt(y_var), y_pred + 2 * np.sqrt(y_var), alpha=0.5)\n"
     ]
    },
    {
     "data": {
      "image/png": "[encoded data removed]",
      "text/plain": [
       "<Figure size 640x480 with 1 Axes>"
      ]
     },
     "metadata": {},
     "output_type": "display_data"
    }
   ],
   "source": [
    "import numpy as np\n",
    "import matplotlib.pyplot as plt\n",
    "\n",
    "def kriging(X, y, x_pred, theta=1.0):\n",
    "    # Calculate covariance matrix between all data points\n",
    "    n = X.shape[0]\n",
    "    C = np.zeros((n, n))\n",
    "    for i in range(n):\n",
    "        for j in range(n):\n",
    "            C[i, j] = theta * np.exp(-np.sum((X[i, :] - X[j, :]) ** 2) / 2)\n",
    "\n",
    "    # Solve the linear system to find weights\n",
    "    w = np.linalg.solve(C, y)\n",
    "\n",
    "    # Calculate the variance of the prediction\n",
    "    y_pred = 0\n",
    "    var_pred = theta\n",
    "    for i in range(n):\n",
    "        d = x_pred - X[i, :]\n",
    "        k = theta * np.exp(-np.sum(d ** 2) / 2)\n",
    "        y_pred += w[i] * k\n",
    "        var_pred -= k ** 2\n",
    "\n",
    "    return y_pred, var_pred\n",
    "\n",
    "# Generate sample data\n",
    "np.random.seed(1)\n",
    "X = 5 * np.random.rand(40, 1)\n",
    "y = np.sin(X).ravel()\n",
    "dy = 0.5 + 1.0 * np.random.rand(X.shape[0])\n",
    "noise = np.random.normal(0, dy)\n",
    "y += noise\n",
    "\n",
    "# Predict values for unseen data\n",
    "X_pred = np.linspace(0, 5, 100)[:, np.newaxis]\n",
    "y_pred = np.zeros(X_pred.shape[0])\n",
    "y_var = np.zeros(X_pred.shape[0])\n",
    "for i in range(X_pred.shape[0]):\n",
    "    y_pred[i], y_var[i] = kriging(X, y, X_pred[i, :])\n",
    "\n",
    "# Plot the results\n",
    "plt.plot(X, y, 'r.', markersize=10, label='Observations')\n",
    "plt.plot(X_pred, y_pred, 'b-', label='Prediction')\n",
    "plt.fill_between(X_pred.ravel(), y_pred - 2 * np.sqrt(y_var), y_pred + 2 * np.sqrt(y_var), alpha=0.5)\n",
    "plt.legend()\n",
    "plt.show()\n"
   ]
  },
  {
   "cell_type": "code",
   "execution_count": null,
   "metadata": {},
   "outputs": [],
   "source": [
    "import numpy as np\n",
    "\n",
    "def kriging(X, y, x_pred, theta=1.0):\n",
    "    # Calculate covariance matrix between all data points\n",
    "    n = X.shape[0]\n",
    "    C = np.zeros((n, n))\n",
    "    for i in range(n):\n",
    "        for j in range(n):\n",
    "            C[i, j] = theta * np.exp(-np.sum((X[i, :] - X[j, :]) ** 2) / 2)\n",
    "\n",
    "    # Solve the linear system to find weights\n",
    "    w = np.linalg.solve(C, y)\n",
    "\n",
    "    # Calculate the prediction as a weighted sum\n",
    "    y_pred = 0\n",
    "    for i in range(n):\n",
    "        k = theta * np.exp(-np.sum((x_pred - X[i, :]) ** 2) / 2)\n",
    "        y_pred += w[i] * k\n",
    "\n",
    "    return y_pred\n",
    "\n",
    "# Generate sample data\n",
    "np.random.seed(1)\n",
    "X = 5 * np.random.rand(40, 1)\n",
    "y = np.sin(X).ravel()\n",
    "dy = 0.5 + 1.0 * np.random.rand(X.shape[0])\n",
    "noise = np.random.normal(0, dy)\n",
    "y += noise\n",
    "\n",
    "# Predict values for unseen data\n",
    "x_pred = np.array([2.5])\n",
    "y_pred = kriging(X, y, x_pred)\n",
    "\n",
    "print(\"Prediction at x = 2.5:\", y_pred)\n"
   ]
  }
 ],
 "metadata": {
  "kernelspec": {
   "display_name": "Python 3",
   "language": "python",
   "name": "python3"
  },
  "language_info": {
   "codemirror_mode": {
    "name": "ipython",
    "version": 3
   },
   "file_extension": ".py",
   "mimetype": "text/x-python",
   "name": "python",
   "nbconvert_exporter": "python",
   "pygments_lexer": "ipython3",
   "version": "3.11.1"
  },
  "orig_nbformat": 4,
  "vscode": {
   "interpreter": {
    "hash": "4729c5fa5e20ded76bc329d13f1ae040d88d3b54d67e1c3954bc3eb78dc8626b"
   }
  }
 },
 "nbformat": 4,
 "nbformat_minor": 2
}

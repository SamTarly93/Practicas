{
 "cells": [
  {
   "cell_type": "code",
   "execution_count": 47,
   "metadata": {},
   "outputs": [],
   "source": [
    "from tkinter import *\n",
    "root = Tk()\n",
    "root.title(\"IN3\")\n",
    "marco_principal = Frame()\n",
    "\n",
    "etiqueta1 = Label(root, text=\"PRACTICAS 2\", padx=0).pack()\n",
    "\n",
    "barra_etiqueta1 = Entry(etiqueta1, text=\"¿Buscas algo?\").pack()\n",
    "\n",
    "etiqueta2 = Label(root, text=\"PRACTICAS 2\", padx=0).pack()\n",
    "barra_etiqueta2 = Entry(etiqueta1, text=\"¿Buscas algo?\").pack()\n",
    "\n",
    "boton_etiqueta1=Button(etiqueta1, text=\"Boton\").pack()\n",
    "\n",
    "boton_etiqueta2=Button(etiqueta1, text=\"Boton2\").pack()\n",
    "\n",
    "boton_etiqueta3=Button(etiqueta1, text=\"Boton3\").pack()\n",
    "boton_etiqueta4=Button(etiqueta1, text=\"Boton3\").pack()\n",
    "boton_etiqueta5=Button(etiqueta1, text=\"Boton3\").pack()\n",
    "\n",
    "marco_principal.config(width=\"400\", height=\"400\")\n",
    "\n",
    "marco_principal.pack()\n",
    "\n",
    "root.mainloop()"
   ]
  },
  {
   "cell_type": "code",
   "execution_count": null,
   "metadata": {},
   "outputs": [],
   "source": []
  }
 ],
 "metadata": {
  "kernelspec": {
   "display_name": "Python 3",
   "language": "python",
   "name": "python3"
  },
  "language_info": {
   "codemirror_mode": {
    "name": "ipython",
    "version": 3
   },
   "file_extension": ".py",
   "mimetype": "text/x-python",
   "name": "python",
   "nbconvert_exporter": "python",
   "pygments_lexer": "ipython3",
   "version": "3.11.1"
  },
  "orig_nbformat": 4,
  "vscode": {
   "interpreter": {
    "hash": "d757182f3673c88845f11005bb11a24873c6120e3cf7bf40ac17bb183628b48a"
   }
  }
 },
 "nbformat": 4,
 "nbformat_minor": 2
}
